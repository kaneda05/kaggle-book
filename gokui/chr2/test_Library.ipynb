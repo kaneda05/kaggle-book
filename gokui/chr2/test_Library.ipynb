{
 "cells": [
  {
   "cell_type": "markdown",
   "metadata": {},
   "source": [
    "## 2章で作成したライブラリーのテストと実験"
   ]
  },
  {
   "cell_type": "markdown",
   "metadata": {},
   "source": [
    "作成したライブラリーのimport"
   ]
  },
  {
   "cell_type": "code",
   "execution_count": 18,
   "metadata": {},
   "outputs": [],
   "source": [
    "from Library_chr2.seed import seed_torch\n",
    "from Library_chr2.lepoch import train_lepoch"
   ]
  },
  {
   "cell_type": "code",
   "execution_count": 20,
   "metadata": {},
   "outputs": [],
   "source": [
    "import os\n",
    "import matplotlib.pyplot as plt\n",
    "plt.style.use('ggplot')\n",
    "import numpy as np\n",
    "import torch\n",
    "from sklearn.datasets import load_digits\n",
    "from torch import nn, optim\n",
    "from torch.utils.data import DataLoader, TensorDataset\n",
    "from tqdm import tqdm"
   ]
  },
  {
   "cell_type": "code",
   "execution_count": 21,
   "metadata": {},
   "outputs": [
    {
     "name": "stdout",
     "output_type": "stream",
     "text": [
      "0.8742348358375069\n"
     ]
    },
    {
     "data": {
      "image/png": "[encoded data removed]",
      "text/plain": [
       "<Figure size 432x288 with 1 Axes>"
      ]
     },
     "metadata": {},
     "output_type": "display_data"
    }
   ],
   "source": [
    "seed_torch()\n",
    "device = torch.device(\"cuda:0\" if torch.cuda.is_available() else \"cpu\")\n",
    "\n",
    "digits = load_digits()\n",
    "\n",
    "X = digits.data\n",
    "y = digits.target\n",
    "X = torch.tensor(X, dtype=torch.float32)\n",
    "y = torch.tensor(y, dtype=torch.int64)\n",
    "\n",
    "\n",
    "# ニューラルネットワークの形成\n",
    "model = nn.Sequential(\n",
    "    nn.Linear(64, 32),\n",
    "    nn.ReLU(),\n",
    "    nn.Linear(32, 16),\n",
    "    nn.ReLU(),\n",
    "    nn.Linear(16, 10)\n",
    ")\n",
    "\n",
    "model.train()\n",
    "lossfun = nn.CrossEntropyLoss()\n",
    "optimizer = optim.SGD(model.parameters(), lr=0.01)\n",
    "\n",
    "losses = []\n",
    "\n",
    "for ep in range(100):\n",
    "    optimizer.zero_grad()\n",
    "\n",
    "    #　yの予測値を算出\n",
    "    out = model(X)\n",
    "\n",
    "    #　損失の計算\n",
    "    loss = lossfun(out, y)\n",
    "    loss.backward()\n",
    "\n",
    "    #　勾配更新\n",
    "    optimizer.step()\n",
    "\n",
    "    losses.append(loss.item())\n",
    "\n",
    "_, pred = torch.max(out, 1)\n",
    "\n",
    "# 学習に用いたデータのうちどれくらいが分類に成功したか\n",
    "print((pred == y).sum().item() / len(y))\n",
    "\n",
    "plt.plot(losses)\n",
    "plt.xlabel(\"epoch\")\n",
    "plt.ylabel(\"loss\")\n",
    "plt.savefig(\"test-batch.png\")"
   ]
  },
  {
   "cell_type": "code",
   "execution_count": 22,
   "metadata": {},
   "outputs": [
    {
     "name": "stderr",
     "output_type": "stream",
     "text": [
      "100%|██████████| 29/29 [00:00<00:00, 337.96it/s]\n",
      "100%|██████████| 29/29 [00:00<00:00, 1902.27it/s]\n",
      "100%|██████████| 29/29 [00:00<00:00, 1745.65it/s]\n",
      "100%|██████████| 29/29 [00:00<00:00, 993.63it/s]\n",
      "100%|██████████| 29/29 [00:00<00:00, 1570.72it/s]\n",
      "100%|██████████| 29/29 [00:00<00:00, 1838.47it/s]\n",
      "100%|██████████| 29/29 [00:00<00:00, 1959.20it/s]\n",
      "100%|██████████| 29/29 [00:00<00:00, 1841.25it/s]\n",
      "100%|██████████| 29/29 [00:00<00:00, 1632.40it/s]\n",
      "100%|██████████| 29/29 [00:00<00:00, 1613.17it/s]\n",
      "100%|██████████| 29/29 [00:00<00:00, 1830.61it/s]\n",
      "100%|██████████| 29/29 [00:00<00:00, 1955.98it/s]\n",
      "100%|██████████| 29/29 [00:00<00:00, 1950.49it/s]\n",
      "100%|██████████| 29/29 [00:00<00:00, 1897.93it/s]\n",
      "100%|██████████| 29/29 [00:00<00:00, 1807.76it/s]\n",
      "100%|██████████| 29/29 [00:00<00:00, 1730.22it/s]\n",
      "100%|██████████| 29/29 [00:00<00:00, 1740.50it/s]\n",
      "100%|██████████| 29/29 [00:00<00:00, 1833.67it/s]\n",
      "100%|██████████| 29/29 [00:00<00:00, 1927.16it/s]\n",
      "100%|██████████| 29/29 [00:00<00:00, 1723.51it/s]\n",
      "100%|██████████| 29/29 [00:00<00:00, 1919.01it/s]\n",
      "100%|██████████| 29/29 [00:00<00:00, 1956.99it/s]\n",
      "100%|██████████| 29/29 [00:00<00:00, 1927.13it/s]\n",
      "100%|██████████| 29/29 [00:00<00:00, 1879.34it/s]\n",
      "100%|██████████| 29/29 [00:00<00:00, 1998.76it/s]\n",
      "100%|██████████| 29/29 [00:00<00:00, 1978.06it/s]\n",
      "100%|██████████| 29/29 [00:00<00:00, 1956.80it/s]\n",
      "100%|██████████| 29/29 [00:00<00:00, 1993.85it/s]\n",
      "100%|██████████| 29/29 [00:00<00:00, 1926.16it/s]\n",
      "100%|██████████| 29/29 [00:00<00:00, 1919.01it/s]\n",
      "100%|██████████| 29/29 [00:00<00:00, 1898.91it/s]\n",
      "100%|██████████| 29/29 [00:00<00:00, 1873.76it/s]\n",
      "100%|██████████| 29/29 [00:00<00:00, 1883.71it/s]\n",
      "100%|██████████| 29/29 [00:00<00:00, 2002.91it/s]\n",
      "100%|██████████| 29/29 [00:00<00:00, 1782.64it/s]\n",
      "100%|██████████| 29/29 [00:00<00:00, 1865.19it/s]\n",
      "100%|██████████| 29/29 [00:00<00:00, 1804.16it/s]\n",
      "100%|██████████| 29/29 [00:00<00:00, 1858.13it/s]\n",
      "100%|██████████| 29/29 [00:00<00:00, 1230.49it/s]\n",
      "100%|██████████| 29/29 [00:00<00:00, 1073.64it/s]\n",
      "100%|██████████| 29/29 [00:00<00:00, 1834.53it/s]\n",
      "100%|██████████| 29/29 [00:00<00:00, 1500.05it/s]\n",
      "100%|██████████| 29/29 [00:00<00:00, 1501.33it/s]\n",
      "100%|██████████| 29/29 [00:00<00:00, 1844.99it/s]\n",
      "100%|██████████| 29/29 [00:00<00:00, 1864.94it/s]\n",
      "100%|██████████| 29/29 [00:00<00:00, 1835.44it/s]\n",
      "100%|██████████| 29/29 [00:00<00:00, 1649.06it/s]\n",
      "100%|██████████| 29/29 [00:00<00:00, 1899.89it/s]\n",
      "100%|██████████| 29/29 [00:00<00:00, 1872.31it/s]\n",
      "100%|██████████| 29/29 [00:00<00:00, 1846.90it/s]\n",
      "100%|██████████| 29/29 [00:00<00:00, 1878.27it/s]\n",
      "100%|██████████| 29/29 [00:00<00:00, 1810.58it/s]\n",
      "100%|██████████| 29/29 [00:00<00:00, 1843.71it/s]\n",
      "100%|██████████| 29/29 [00:00<00:00, 1828.05it/s]\n",
      "100%|██████████| 29/29 [00:00<00:00, 1795.96it/s]\n",
      "100%|██████████| 29/29 [00:00<00:00, 1842.34it/s]\n",
      "100%|██████████| 29/29 [00:00<00:00, 1903.88it/s]\n",
      "100%|██████████| 29/29 [00:00<00:00, 1945.01it/s]\n",
      "100%|██████████| 29/29 [00:00<00:00, 1659.05it/s]\n",
      "100%|██████████| 29/29 [00:00<00:00, 1478.54it/s]\n",
      "100%|██████████| 29/29 [00:00<00:00, 1521.20it/s]\n",
      "100%|██████████| 29/29 [00:00<00:00, 1587.03it/s]\n",
      "100%|██████████| 29/29 [00:00<00:00, 1495.13it/s]\n",
      "100%|██████████| 29/29 [00:00<00:00, 1441.05it/s]\n",
      "100%|██████████| 29/29 [00:00<00:00, 1358.37it/s]\n",
      "100%|██████████| 29/29 [00:00<00:00, 1550.04it/s]\n",
      "100%|██████████| 29/29 [00:00<00:00, 1339.31it/s]\n",
      "100%|██████████| 29/29 [00:00<00:00, 1580.12it/s]\n",
      "100%|██████████| 29/29 [00:00<00:00, 1623.27it/s]\n",
      "100%|██████████| 29/29 [00:00<00:00, 1492.95it/s]\n",
      "100%|██████████| 29/29 [00:00<00:00, 1572.48it/s]\n",
      "100%|██████████| 29/29 [00:00<00:00, 1557.62it/s]\n",
      "100%|██████████| 29/29 [00:00<00:00, 1584.26it/s]\n",
      "100%|██████████| 29/29 [00:00<00:00, 1486.58it/s]\n",
      "100%|██████████| 29/29 [00:00<00:00, 1631.43it/s]\n",
      "100%|██████████| 29/29 [00:00<00:00, 1584.61it/s]\n",
      "100%|██████████| 29/29 [00:00<00:00, 1531.21it/s]\n",
      "100%|██████████| 29/29 [00:00<00:00, 1743.19it/s]\n",
      "100%|██████████| 29/29 [00:00<00:00, 1636.75it/s]\n",
      "100%|██████████| 29/29 [00:00<00:00, 1792.57it/s]\n",
      "100%|██████████| 29/29 [00:00<00:00, 1719.44it/s]\n",
      "100%|██████████| 29/29 [00:00<00:00, 1638.71it/s]\n",
      "100%|██████████| 29/29 [00:00<00:00, 1779.54it/s]\n",
      "100%|██████████| 29/29 [00:00<00:00, 1721.19it/s]\n",
      "100%|██████████| 29/29 [00:00<00:00, 1794.24it/s]\n",
      "100%|██████████| 29/29 [00:00<00:00, 1731.88it/s]\n",
      "100%|██████████| 29/29 [00:00<00:00, 1773.39it/s]\n",
      "100%|██████████| 29/29 [00:00<00:00, 1733.31it/s]\n",
      "100%|██████████| 29/29 [00:00<00:00, 1610.57it/s]\n",
      "100%|██████████| 29/29 [00:00<00:00, 1602.55it/s]\n",
      "100%|██████████| 29/29 [00:00<00:00, 1810.12it/s]\n",
      "100%|██████████| 29/29 [00:00<00:00, 1714.25it/s]\n",
      "100%|██████████| 29/29 [00:00<00:00, 1825.14it/s]\n",
      "100%|██████████| 29/29 [00:00<00:00, 1886.81it/s]\n",
      "100%|██████████| 29/29 [00:00<00:00, 1875.89it/s]\n",
      "100%|██████████| 29/29 [00:00<00:00, 1797.10it/s]\n",
      "100%|██████████| 29/29 [00:00<00:00, 1817.37it/s]\n",
      "100%|██████████| 29/29 [00:00<00:00, 1784.47it/s]\n",
      "100%|██████████| 29/29 [00:00<00:00, 1667.56it/s]\n",
      "100%|██████████| 29/29 [00:00<00:00, 1623.16it/s]\n"
     ]
    },
    {
     "data": {
      "image/png": "[encoded data removed]",
      "text/plain": [
       "<Figure size 432x288 with 1 Axes>"
      ]
     },
     "metadata": {},
     "output_type": "display_data"
    }
   ],
   "source": [
    "dataset = TensorDataset(X, y)\n",
    "train_loader = DataLoader(dataset, batch_size=64, shuffle=False)\n",
    "for ep in range(100):\n",
    "    avg_acc, avg_loss = train_lepoch(model, train_loader, lossfun, optimizer, device)\n",
    "    losses.append(avg_loss)\n",
    "\n",
    "plt.plot(losses)\n",
    "plt.xlabel(\"epoch\")\n",
    "plt.ylabel(\"loss\")\n",
    "plt.savefig(\"test-minibacth.png\")"
   ]
  },
  {
   "cell_type": "code",
   "execution_count": null,
   "metadata": {},
   "outputs": [],
   "source": []
  }
 ],
 "metadata": {
  "interpreter": {
   "hash": "a665b5d41d17b532ea9890333293a1b812fa0b73c9c25c950b3cedf1bebd0438"
  },
  "kernelspec": {
   "display_name": "Python 3.9.16 64-bit",
   "name": "python3"
  },
  "language_info": {
   "codemirror_mode": {
    "name": "ipython",
    "version": 3
   },
   "file_extension": ".py",
   "mimetype": "text/x-python",
   "name": "python",
   "nbconvert_exporter": "python",
   "pygments_lexer": "ipython3",
   "version": "3.9.16"
  },
  "orig_nbformat": 4
 },
 "nbformat": 4,
 "nbformat_minor": 2
}
