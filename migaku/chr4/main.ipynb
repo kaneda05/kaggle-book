{
 "cells": [
  {
   "cell_type": "markdown",
   "metadata": {},
   "source": [
    "## 4.3 ファイルの読み込み"
   ]
  },
  {
   "cell_type": "code",
   "execution_count": 141,
   "metadata": {},
   "outputs": [],
   "source": [
    "# 4-1 ライブラリの読み込み\n",
    "import numpy as np\n",
    "import pandas as pd\n",
    "import os\n",
    "import gc\n",
    "import pickle\n",
    "\n",
    "# 分布確認\n",
    "import pandas_profiling as pdp\n",
    "\n",
    "# 可視化\n",
    "import matplotlib.pyplot as plt\n",
    "plt.style.use(\"ggplot\")\n",
    "\n",
    "# 前処理\n",
    "from sklearn.preprocessing import StandardScaler, MinMaxScaler, LabelEncoder, OneHotEncoder\n",
    "\n",
    "# モデリング\n",
    "from sklearn.model_selection import train_test_split, KFold, StratifiedKFold\n",
    "from sklearn.metrics import accuracy_score, roc_auc_score, confusion_matrix\n",
    "import lightgbm as lgb\n",
    "\n",
    "import warnings\n",
    "warnings.filterwarnings(\"ignore\")\n",
    "\n",
    "import japanize_matplotlib\n",
    "%matplotlib inline"
   ]
  },
  {
   "cell_type": "code",
   "execution_count": 142,
   "metadata": {},
   "outputs": [
    {
     "data": {
      "text/html": [
       "<div>\n",
       "<style scoped>\n",
       "    .dataframe tbody tr th:only-of-type {\n",
       "        vertical-align: middle;\n",
       "    }\n",
       "\n",
       "    .dataframe tbody tr th {\n",
       "        vertical-align: top;\n",
       "    }\n",
       "\n",
       "    .dataframe thead th {\n",
       "        text-align: right;\n",
       "    }\n",
       "</style>\n",
       "<table border=\"1\" class=\"dataframe\">\n",
       "  <thead>\n",
       "    <tr style=\"text-align: right;\">\n",
       "      <th></th>\n",
       "      <th>PassengerId</th>\n",
       "      <th>Survived</th>\n",
       "      <th>Pclass</th>\n",
       "      <th>Name</th>\n",
       "      <th>Sex</th>\n",
       "      <th>Age</th>\n",
       "      <th>SibSp</th>\n",
       "      <th>Parch</th>\n",
       "      <th>Ticket</th>\n",
       "      <th>Fare</th>\n",
       "      <th>Cabin</th>\n",
       "      <th>Embarked</th>\n",
       "    </tr>\n",
       "  </thead>\n",
       "  <tbody>\n",
       "    <tr>\n",
       "      <th>0</th>\n",
       "      <td>1</td>\n",
       "      <td>0</td>\n",
       "      <td>3</td>\n",
       "      <td>Braund, Mr. Owen Harris</td>\n",
       "      <td>male</td>\n",
       "      <td>22.0</td>\n",
       "      <td>1</td>\n",
       "      <td>0</td>\n",
       "      <td>A/5 21171</td>\n",
       "      <td>7.2500</td>\n",
       "      <td>NaN</td>\n",
       "      <td>S</td>\n",
       "    </tr>\n",
       "    <tr>\n",
       "      <th>1</th>\n",
       "      <td>2</td>\n",
       "      <td>1</td>\n",
       "      <td>1</td>\n",
       "      <td>Cumings, Mrs. John Bradley (Florence Briggs Th...</td>\n",
       "      <td>female</td>\n",
       "      <td>38.0</td>\n",
       "      <td>1</td>\n",
       "      <td>0</td>\n",
       "      <td>PC 17599</td>\n",
       "      <td>71.2833</td>\n",
       "      <td>C85</td>\n",
       "      <td>C</td>\n",
       "    </tr>\n",
       "    <tr>\n",
       "      <th>2</th>\n",
       "      <td>3</td>\n",
       "      <td>1</td>\n",
       "      <td>3</td>\n",
       "      <td>Heikkinen, Miss. Laina</td>\n",
       "      <td>female</td>\n",
       "      <td>26.0</td>\n",
       "      <td>0</td>\n",
       "      <td>0</td>\n",
       "      <td>STON/O2. 3101282</td>\n",
       "      <td>7.9250</td>\n",
       "      <td>NaN</td>\n",
       "      <td>S</td>\n",
       "    </tr>\n",
       "    <tr>\n",
       "      <th>3</th>\n",
       "      <td>4</td>\n",
       "      <td>1</td>\n",
       "      <td>1</td>\n",
       "      <td>Futrelle, Mrs. Jacques Heath (Lily May Peel)</td>\n",
       "      <td>female</td>\n",
       "      <td>35.0</td>\n",
       "      <td>1</td>\n",
       "      <td>0</td>\n",
       "      <td>113803</td>\n",
       "      <td>53.1000</td>\n",
       "      <td>C123</td>\n",
       "      <td>S</td>\n",
       "    </tr>\n",
       "    <tr>\n",
       "      <th>4</th>\n",
       "      <td>5</td>\n",
       "      <td>0</td>\n",
       "      <td>3</td>\n",
       "      <td>Allen, Mr. William Henry</td>\n",
       "      <td>male</td>\n",
       "      <td>35.0</td>\n",
       "      <td>0</td>\n",
       "      <td>0</td>\n",
       "      <td>373450</td>\n",
       "      <td>8.0500</td>\n",
       "      <td>NaN</td>\n",
       "      <td>S</td>\n",
       "    </tr>\n",
       "  </tbody>\n",
       "</table>\n",
       "</div>"
      ],
      "text/plain": [
       "   PassengerId  Survived  Pclass  \\\n",
       "0            1         0       3   \n",
       "1            2         1       1   \n",
       "2            3         1       3   \n",
       "3            4         1       1   \n",
       "4            5         0       3   \n",
       "\n",
       "                                                Name     Sex   Age  SibSp  \\\n",
       "0                            Braund, Mr. Owen Harris    male  22.0      1   \n",
       "1  Cumings, Mrs. John Bradley (Florence Briggs Th...  female  38.0      1   \n",
       "2                             Heikkinen, Miss. Laina  female  26.0      0   \n",
       "3       Futrelle, Mrs. Jacques Heath (Lily May Peel)  female  35.0      1   \n",
       "4                           Allen, Mr. William Henry    male  35.0      0   \n",
       "\n",
       "   Parch            Ticket     Fare Cabin Embarked  \n",
       "0      0         A/5 21171   7.2500   NaN        S  \n",
       "1      0          PC 17599  71.2833   C85        C  \n",
       "2      0  STON/O2. 3101282   7.9250   NaN        S  \n",
       "3      0            113803  53.1000  C123        S  \n",
       "4      0            373450   8.0500   NaN        S  "
      ]
     },
     "execution_count": 142,
     "metadata": {},
     "output_type": "execute_result"
    }
   ],
   "source": [
    "# 4-2 ファイルの読み込み\n",
    "df_train = pd.read_csv(\"../titanic/train.csv\")\n",
    "df_train.head()"
   ]
  },
  {
   "cell_type": "markdown",
   "metadata": {},
   "source": [
    "## 4.4 データの確認（簡易）"
   ]
  },
  {
   "cell_type": "markdown",
   "metadata": {},
   "source": [
    "### 4.4.1 レコード数とカラム数の確認"
   ]
  },
  {
   "cell_type": "code",
   "execution_count": 143,
   "metadata": {},
   "outputs": [
    {
     "name": "stdout",
     "output_type": "stream",
     "text": [
      "(891, 12)\n",
      "レコード数: 891\n",
      "カラム数: 12\n"
     ]
    }
   ],
   "source": [
    "# 4-3 レコード数とカラム数の確認\n",
    "print(df_train.shape)\n",
    "print(\"レコード数:\", len(df_train))\n",
    "print(\"カラム数:\", len(df_train.columns))"
   ]
  },
  {
   "cell_type": "markdown",
   "metadata": {},
   "source": [
    "## 4.4.2 カラムごとのデータの種類の確認"
   ]
  },
  {
   "cell_type": "code",
   "execution_count": 144,
   "metadata": {},
   "outputs": [
    {
     "name": "stdout",
     "output_type": "stream",
     "text": [
      "<class 'pandas.core.frame.DataFrame'>\n",
      "RangeIndex: 891 entries, 0 to 890\n",
      "Data columns (total 12 columns):\n",
      " #   Column       Non-Null Count  Dtype  \n",
      "---  ------       --------------  -----  \n",
      " 0   PassengerId  891 non-null    int64  \n",
      " 1   Survived     891 non-null    int64  \n",
      " 2   Pclass       891 non-null    int64  \n",
      " 3   Name         891 non-null    object \n",
      " 4   Sex          891 non-null    object \n",
      " 5   Age          714 non-null    float64\n",
      " 6   SibSp        891 non-null    int64  \n",
      " 7   Parch        891 non-null    int64  \n",
      " 8   Ticket       891 non-null    object \n",
      " 9   Fare         891 non-null    float64\n",
      " 10  Cabin        204 non-null    object \n",
      " 11  Embarked     889 non-null    object \n",
      "dtypes: float64(2), int64(5), object(5)\n",
      "memory usage: 83.7+ KB\n"
     ]
    }
   ],
   "source": [
    "# 4-4 データの確認\n",
    "df_train.info()"
   ]
  },
  {
   "cell_type": "markdown",
   "metadata": {},
   "source": [
    "Pclassは「順序尺度」（数値の順序に意味がある）ではあるものの、「間隔尺度」（間隔に意味がある）ものではないので、「カテゴリ変数」と捉えることができる。"
   ]
  },
  {
   "cell_type": "code",
   "execution_count": 145,
   "metadata": {},
   "outputs": [
    {
     "name": "stdout",
     "output_type": "stream",
     "text": [
      "<class 'pandas.core.frame.DataFrame'>\n",
      "RangeIndex: 891 entries, 0 to 890\n",
      "Data columns (total 1 columns):\n",
      " #   Column  Non-Null Count  Dtype \n",
      "---  ------  --------------  ----- \n",
      " 0   Pclass  891 non-null    object\n",
      "dtypes: object(1)\n",
      "memory usage: 7.1+ KB\n"
     ]
    }
   ],
   "source": [
    "# 4-5 データ型の変換\n",
    "df_train[\"Pclass\"] = df_train[\"Pclass\"].astype(object)\n",
    "df_train[[\"Pclass\"]].info()"
   ]
  },
  {
   "cell_type": "code",
   "execution_count": 146,
   "metadata": {},
   "outputs": [
    {
     "name": "stdout",
     "output_type": "stream",
     "text": [
      "<class 'pandas.core.frame.DataFrame'>\n",
      "RangeIndex: 891 entries, 0 to 890\n",
      "Data columns (total 1 columns):\n",
      " #   Column  Non-Null Count  Dtype\n",
      "---  ------  --------------  -----\n",
      " 0   Pclass  891 non-null    int64\n",
      "dtypes: int64(1)\n",
      "memory usage: 7.1 KB\n"
     ]
    }
   ],
   "source": [
    "# 4-6 データ型をobject型からint型へ戻す\n",
    "df_train[\"Pclass\"] = df_train[\"Pclass\"].astype(int)\n",
    "df_train[[\"Pclass\"]].info()"
   ]
  },
  {
   "cell_type": "markdown",
   "metadata": {},
   "source": [
    "## 4.4.3 欠損値の確認"
   ]
  },
  {
   "cell_type": "code",
   "execution_count": 147,
   "metadata": {},
   "outputs": [
    {
     "data": {
      "text/plain": [
       "PassengerId      0\n",
       "Survived         0\n",
       "Pclass           0\n",
       "Name             0\n",
       "Sex              0\n",
       "Age            177\n",
       "SibSp            0\n",
       "Parch            0\n",
       "Ticket           0\n",
       "Fare             0\n",
       "Cabin          687\n",
       "Embarked         2\n",
       "dtype: int64"
      ]
     },
     "execution_count": 147,
     "metadata": {},
     "output_type": "execute_result"
    }
   ],
   "source": [
    "# 4-8 欠損値の確認\n",
    "df_train.isnull().sum()"
   ]
  },
  {
   "cell_type": "markdown",
   "metadata": {},
   "source": [
    "## 4.5 データセットの作成"
   ]
  },
  {
   "cell_type": "markdown",
   "metadata": {},
   "source": [
    "仮定：チケットクラスや旅客運賃の高人の方が、優先的に救助されて生き残りやすそう。\n",
    "\n",
    "そこで、説明変数として欠損値がなく、数値データである「Pclass」、「Fare」を使用する。"
   ]
  },
  {
   "cell_type": "code",
   "execution_count": 148,
   "metadata": {},
   "outputs": [
    {
     "name": "stdout",
     "output_type": "stream",
     "text": [
      "(891, 2) (891, 1) (891, 1)\n"
     ]
    }
   ],
   "source": [
    "# 4-8 データセットの作成\n",
    "x_train, y_train, id_train = df_train[[\"Pclass\", \"Fare\"]],\\\n",
    "                             df_train[[\"Survived\"]],\\\n",
    "                             df_train[[\"PassengerId\"]]\n",
    "\n",
    "print(x_train.shape, y_train.shape, id_train.shape)"
   ]
  },
  {
   "cell_type": "markdown",
   "metadata": {},
   "source": [
    "## 4.6 バリデーション設計"
   ]
  },
  {
   "cell_type": "code",
   "execution_count": 149,
   "metadata": {},
   "outputs": [
    {
     "name": "stdout",
     "output_type": "stream",
     "text": [
      "(712, 2) (712, 1)\n",
      "(179, 2) (179, 1)\n",
      "y_train:0.384, y_tr:0.383, y_va:0.385\n"
     ]
    }
   ],
   "source": [
    "# 4-9 ホールドアウト検証の実行\n",
    "x_tr, x_va, y_tr, y_va = train_test_split(x_train,\n",
    "                                          y_train,\n",
    "                                          test_size=0.2,\n",
    "                                          shuffle=True,\n",
    "                                          stratify=y_train,\n",
    "                                          random_state=1234)\n",
    "print(x_tr.shape, y_tr.shape)\n",
    "print(x_va.shape, y_va.shape)\n",
    "\n",
    "print(\"y_train:{:.3f}, y_tr:{:.3f}, y_va:{:.3f}\".format(\n",
    "    y_train[\"Survived\"].mean(),\n",
    "    y_tr[\"Survived\"].mean(),\n",
    "    y_va[\"Survived\"].mean()\n",
    "))"
   ]
  },
  {
   "cell_type": "code",
   "execution_count": 150,
   "metadata": {},
   "outputs": [
    {
     "data": {
      "text/plain": [
       "array([  0,   1,   4,   5,   6,   7,   8,   9,  10,  11,  13,  14,  15,\n",
       "        16,  18,  19,  20,  21,  22,  23,  24,  25,  27,  28,  30,  31,\n",
       "        32,  33,  35,  36,  37,  39,  40,  41,  42,  43,  44,  46,  47,\n",
       "        49,  50,  51,  52,  53,  54,  58,  59,  60,  63,  64,  65,  66,\n",
       "        67,  68,  69,  71,  73,  74,  75,  76,  77,  78,  81,  82,  84,\n",
       "        85,  86,  87,  88,  90,  91,  92,  93,  94,  95,  96,  97,  98,\n",
       "        99, 100, 101, 102, 103, 104, 106, 107, 109, 110, 111, 113, 114,\n",
       "       115, 116, 117, 118, 119, 120, 121, 122, 123, 124, 127, 129, 130,\n",
       "       131, 132, 133, 134, 136, 137, 138, 139, 140, 141, 142, 143, 144,\n",
       "       147, 148, 149, 150, 151, 152, 153, 154, 155, 156, 157, 160, 161,\n",
       "       162, 164, 165, 166, 167, 168, 169, 170, 171, 172, 173, 174, 175,\n",
       "       176, 178, 179, 180, 181, 182, 183, 184, 185, 186, 188, 189, 190,\n",
       "       191, 192, 193, 194, 196, 198, 199, 200, 201, 202, 203, 205, 206,\n",
       "       207, 208, 209, 210, 211, 212, 214, 215, 216, 217, 220, 222, 224,\n",
       "       225, 226, 228, 229, 230, 231, 232, 233, 234, 235, 236, 240, 241,\n",
       "       242, 243, 244, 245, 246, 247, 248, 249, 251, 252, 253, 254, 256,\n",
       "       259, 260, 261, 262, 263, 264, 265, 266, 268, 269, 270, 271, 272,\n",
       "       273, 274, 275, 276, 277, 278, 280, 281, 282, 283, 285, 286, 287,\n",
       "       288, 289, 290, 291, 293, 294, 295, 296, 298, 300, 301, 302, 303,\n",
       "       304, 305, 306, 307, 308, 309, 310, 311, 312, 313, 314, 316, 317,\n",
       "       319, 321, 323, 324, 325, 326, 327, 329, 330, 331, 333, 334, 335,\n",
       "       339, 340, 342, 343, 345, 346, 347, 348, 349, 350, 351, 352, 353,\n",
       "       355, 356, 357, 358, 359, 360, 361, 363, 364, 365, 366, 367, 368,\n",
       "       370, 371, 372, 374, 375, 376, 377, 378, 379, 381, 382, 383, 384,\n",
       "       386, 387, 388, 389, 390, 391, 392, 393, 394, 395, 396, 397, 398,\n",
       "       399, 400, 401, 402, 403, 405, 406, 408, 411, 412, 413, 414, 415,\n",
       "       416, 419, 420, 421, 422, 423, 424, 425, 426, 427, 430, 432, 433,\n",
       "       434, 435, 437, 439, 440, 443, 444, 445, 446, 447, 448, 451, 452,\n",
       "       453, 454, 455, 456, 457, 459, 462, 464, 465, 466, 468, 469, 470,\n",
       "       471, 472, 473, 474, 475, 476, 478, 479, 481, 482, 483, 485, 486,\n",
       "       490, 493, 494, 495, 497, 498, 499, 500, 502, 503, 504, 505, 507,\n",
       "       508, 509, 511, 513, 514, 515, 516, 517, 518, 519, 520, 521, 522,\n",
       "       523, 524, 525, 526, 527, 528, 529, 530, 531, 532, 533, 534, 535,\n",
       "       537, 538, 539, 540, 542, 543, 544, 545, 546, 547, 550, 551, 552,\n",
       "       553, 555, 556, 557, 560, 561, 562, 564, 565, 566, 567, 568, 570,\n",
       "       572, 573, 574, 575, 576, 577, 578, 579, 580, 581, 582, 583, 584,\n",
       "       585, 586, 587, 589, 590, 591, 593, 594, 595, 596, 598, 599, 600,\n",
       "       601, 602, 603, 604, 608, 609, 610, 611, 612, 613, 614, 615, 616,\n",
       "       617, 620, 621, 622, 623, 624, 625, 626, 627, 628, 629, 630, 631,\n",
       "       632, 633, 636, 638, 639, 642, 643, 644, 645, 646, 649, 651, 653,\n",
       "       654, 655, 656, 657, 658, 659, 660, 661, 662, 664, 665, 666, 667,\n",
       "       668, 669, 671, 672, 673, 674, 676, 677, 678, 679, 680, 681, 682,\n",
       "       683, 684, 685, 686, 687, 688, 689, 690, 691, 692, 693, 694, 697,\n",
       "       699, 700, 701, 702, 704, 705, 706, 707, 709, 711, 712, 713, 714,\n",
       "       715, 717, 718, 719, 721, 723, 724, 725, 726, 727, 728, 729, 730,\n",
       "       733, 734, 735, 736, 737, 738, 739, 740, 741, 742, 743, 744, 746,\n",
       "       747, 748, 750, 753, 754, 755, 756, 758, 759, 760, 761, 762, 763,\n",
       "       764, 768, 770, 771, 772, 773, 774, 775, 777, 778, 779, 780, 782,\n",
       "       783, 785, 786, 787, 788, 789, 790, 791, 792, 793, 794, 795, 796,\n",
       "       797, 798, 799, 800, 801, 802, 804, 805, 807, 808, 809, 810, 811,\n",
       "       812, 813, 814, 815, 816, 817, 818, 819, 820, 822, 823, 824, 825,\n",
       "       828, 829, 830, 831, 832, 833, 834, 835, 836, 837, 838, 839, 840,\n",
       "       841, 843, 845, 846, 847, 848, 851, 853, 854, 855, 856, 857, 858,\n",
       "       860, 861, 862, 863, 864, 865, 866, 867, 868, 869, 870, 871, 874,\n",
       "       876, 878, 879, 880, 881, 885, 886, 887, 888, 890])"
      ]
     },
     "execution_count": 150,
     "metadata": {},
     "output_type": "execute_result"
    }
   ],
   "source": [
    "cv[0][0]"
   ]
  },
  {
   "cell_type": "code",
   "execution_count": 151,
   "metadata": {},
   "outputs": [
    {
     "data": {
      "text/plain": [
       "array([  2,   3,  12,  17,  26,  29,  34,  38,  45,  48,  55,  56,  57,\n",
       "        61,  62,  70,  72,  79,  80,  83,  89, 105, 108, 112, 125, 126,\n",
       "       128, 135, 145, 146, 158, 159, 163, 177, 187, 195, 197, 204, 213,\n",
       "       218, 219, 221, 223, 227, 237, 238, 239, 250, 255, 257, 258, 267,\n",
       "       279, 284, 292, 297, 299, 315, 318, 320, 322, 328, 332, 336, 337,\n",
       "       338, 341, 344, 354, 362, 369, 373, 380, 385, 404, 407, 409, 410,\n",
       "       417, 418, 428, 429, 431, 436, 438, 441, 442, 449, 450, 458, 460,\n",
       "       461, 463, 467, 477, 480, 484, 487, 488, 489, 491, 492, 496, 501,\n",
       "       506, 510, 512, 536, 541, 548, 549, 554, 558, 559, 563, 569, 571,\n",
       "       588, 592, 597, 605, 606, 607, 618, 619, 634, 635, 637, 640, 641,\n",
       "       647, 648, 650, 652, 663, 670, 675, 695, 696, 698, 703, 708, 710,\n",
       "       716, 720, 722, 731, 732, 745, 749, 751, 752, 757, 765, 766, 767,\n",
       "       769, 776, 781, 784, 803, 806, 821, 826, 827, 842, 844, 849, 850,\n",
       "       852, 859, 872, 873, 875, 877, 882, 883, 884, 889])"
      ]
     },
     "execution_count": 151,
     "metadata": {},
     "output_type": "execute_result"
    }
   ],
   "source": [
    "cv[0][1]"
   ]
  },
  {
   "cell_type": "code",
   "execution_count": 152,
   "metadata": {},
   "outputs": [
    {
     "name": "stdout",
     "output_type": "stream",
     "text": [
      "-------------------- 0 --------------------\n",
      "(712, 2) (712, 1)\n",
      "(179, 2) (179, 1)\n",
      "y_train:0.384, y_tr:0.383, y_va:0.385\n",
      "-------------------- 1 --------------------\n",
      "(713, 2) (713, 1)\n",
      "(178, 2) (178, 1)\n",
      "y_train:0.384, y_tr:0.384, y_va:0.382\n",
      "-------------------- 2 --------------------\n",
      "(713, 2) (713, 1)\n",
      "(178, 2) (178, 1)\n",
      "y_train:0.384, y_tr:0.384, y_va:0.382\n",
      "-------------------- 3 --------------------\n",
      "(713, 2) (713, 1)\n",
      "(178, 2) (178, 1)\n",
      "y_train:0.384, y_tr:0.384, y_va:0.382\n",
      "-------------------- 4 --------------------\n",
      "(713, 2) (713, 1)\n",
      "(178, 2) (178, 1)\n",
      "y_train:0.384, y_tr:0.383, y_va:0.388\n"
     ]
    }
   ],
   "source": [
    "# 4-10 クロスバリエでーションの実行\n",
    "x_train, y_train, id_train = df_train[[\"Pclass\", \"Fare\"]],\\\n",
    "                             df_train[[\"Survived\"]],\\\n",
    "                             df_train[[\"PassengerId\"]]\n",
    "n_splits = 5\n",
    "cv = list(StratifiedKFold(n_splits=n_splits, shuffle=True, random_state=1234).split(x_train,y_train))\n",
    "\n",
    "for nfold in np.arange(n_splits):\n",
    "    print(\"-\"*20, nfold, \"-\"*20)\n",
    "    idx_tr, idx_va = cv[nfold][0], cv[nfold][1]\n",
    "    x_tr, y_tr = x_train.loc[idx_tr,:], y_train.loc[idx_tr,:]\n",
    "    x_va, y_va = x_train.loc[idx_va,:], y_train.loc[idx_va,:]\n",
    "    print(x_tr.shape, y_tr.shape)\n",
    "    print(x_va.shape, y_va.shape)\n",
    "    print(\"y_train:{:.3f}, y_tr:{:.3f}, y_va:{:.3f}\".format(\n",
    "    y_train[\"Survived\"].mean(),\n",
    "    y_tr[\"Survived\"].mean(),\n",
    "    y_va[\"Survived\"].mean()\n",
    "    ))"
   ]
  },
  {
   "cell_type": "markdown",
   "metadata": {},
   "source": [
    "## 4.7 モデル学習（勾配ブースティング）"
   ]
  },
  {
   "cell_type": "markdown",
   "metadata": {},
   "source": [
    "### 4.7.1 ホールドアウト検証の場合"
   ]
  },
  {
   "cell_type": "code",
   "execution_count": 153,
   "metadata": {},
   "outputs": [
    {
     "name": "stdout",
     "output_type": "stream",
     "text": [
      "(712, 2) (712, 1)\n",
      "(179, 2) (179, 1)\n",
      "y_train:0.384, y_tr:0.383, y_va:0.385\n"
     ]
    }
   ],
   "source": [
    "# 4-11 データセットの作成(# 4-9 ホールドアウト検証の実行)\n",
    "x_tr, x_va, y_tr, y_va = train_test_split(x_train,\n",
    "                                          y_train,\n",
    "                                          test_size=0.2,\n",
    "                                          shuffle=True,\n",
    "                                          stratify=y_train,\n",
    "                                          random_state=123)\n",
    "print(x_tr.shape, y_tr.shape)\n",
    "print(x_va.shape, y_va.shape)\n",
    "\n",
    "print(\"y_train:{:.3f}, y_tr:{:.3f}, y_va:{:.3f}\".format(\n",
    "    y_train[\"Survived\"].mean(),\n",
    "    y_tr[\"Survived\"].mean(),\n",
    "    y_va[\"Survived\"].mean()\n",
    "))"
   ]
  },
  {
   "cell_type": "code",
   "execution_count": 154,
   "metadata": {},
   "outputs": [
    {
     "name": "stdout",
     "output_type": "stream",
     "text": [
      "[LightGBM] [Info] Number of positive: 273, number of negative: 439\n",
      "[LightGBM] [Warning] Auto-choosing row-wise multi-threading, the overhead of testing was 0.000185 seconds.\n",
      "You can set `force_row_wise=true` to remove the overhead.\n",
      "And if memory is not enough, you can set `force_col_wise=true`.\n",
      "[LightGBM] [Info] Total Bins 120\n",
      "[LightGBM] [Info] Number of data points in the train set: 712, number of used features: 2\n",
      "[LightGBM] [Info] [binary:BoostFromScore]: pavg=0.383427 -> initscore=-0.475028\n",
      "[LightGBM] [Info] Start training from score -0.475028\n",
      "Training until validation scores don't improve for 100 rounds\n",
      "Early stopping, best iteration is:\n",
      "[35]\ttraining's auc: 0.81342\tvalid_1's auc: 0.761265\n"
     ]
    },
    {
     "data": {
      "text/html": [
       "<style>#sk-container-id-13 {color: black;background-color: white;}#sk-container-id-13 pre{padding: 0;}#sk-container-id-13 div.sk-toggleable {background-color: white;}#sk-container-id-13 label.sk-toggleable__label {cursor: pointer;display: block;width: 100%;margin-bottom: 0;padding: 0.3em;box-sizing: border-box;text-align: center;}#sk-container-id-13 label.sk-toggleable__label-arrow:before {content: \"▸\";float: left;margin-right: 0.25em;color: #696969;}#sk-container-id-13 label.sk-toggleable__label-arrow:hover:before {color: black;}#sk-container-id-13 div.sk-estimator:hover label.sk-toggleable__label-arrow:before {color: black;}#sk-container-id-13 div.sk-toggleable__content {max-height: 0;max-width: 0;overflow: hidden;text-align: left;background-color: #f0f8ff;}#sk-container-id-13 div.sk-toggleable__content pre {margin: 0.2em;color: black;border-radius: 0.25em;background-color: #f0f8ff;}#sk-container-id-13 input.sk-toggleable__control:checked~div.sk-toggleable__content {max-height: 200px;max-width: 100%;overflow: auto;}#sk-container-id-13 input.sk-toggleable__control:checked~label.sk-toggleable__label-arrow:before {content: \"▾\";}#sk-container-id-13 div.sk-estimator input.sk-toggleable__control:checked~label.sk-toggleable__label {background-color: #d4ebff;}#sk-container-id-13 div.sk-label input.sk-toggleable__control:checked~label.sk-toggleable__label {background-color: #d4ebff;}#sk-container-id-13 input.sk-hidden--visually {border: 0;clip: rect(1px 1px 1px 1px);clip: rect(1px, 1px, 1px, 1px);height: 1px;margin: -1px;overflow: hidden;padding: 0;position: absolute;width: 1px;}#sk-container-id-13 div.sk-estimator {font-family: monospace;background-color: #f0f8ff;border: 1px dotted black;border-radius: 0.25em;box-sizing: border-box;margin-bottom: 0.5em;}#sk-container-id-13 div.sk-estimator:hover {background-color: #d4ebff;}#sk-container-id-13 div.sk-parallel-item::after {content: \"\";width: 100%;border-bottom: 1px solid gray;flex-grow: 1;}#sk-container-id-13 div.sk-label:hover label.sk-toggleable__label {background-color: #d4ebff;}#sk-container-id-13 div.sk-serial::before {content: \"\";position: absolute;border-left: 1px solid gray;box-sizing: border-box;top: 0;bottom: 0;left: 50%;z-index: 0;}#sk-container-id-13 div.sk-serial {display: flex;flex-direction: column;align-items: center;background-color: white;padding-right: 0.2em;padding-left: 0.2em;position: relative;}#sk-container-id-13 div.sk-item {position: relative;z-index: 1;}#sk-container-id-13 div.sk-parallel {display: flex;align-items: stretch;justify-content: center;background-color: white;position: relative;}#sk-container-id-13 div.sk-item::before, #sk-container-id-13 div.sk-parallel-item::before {content: \"\";position: absolute;border-left: 1px solid gray;box-sizing: border-box;top: 0;bottom: 0;left: 50%;z-index: -1;}#sk-container-id-13 div.sk-parallel-item {display: flex;flex-direction: column;z-index: 1;position: relative;background-color: white;}#sk-container-id-13 div.sk-parallel-item:first-child::after {align-self: flex-end;width: 50%;}#sk-container-id-13 div.sk-parallel-item:last-child::after {align-self: flex-start;width: 50%;}#sk-container-id-13 div.sk-parallel-item:only-child::after {width: 0;}#sk-container-id-13 div.sk-dashed-wrapped {border: 1px dashed gray;margin: 0 0.4em 0.5em 0.4em;box-sizing: border-box;padding-bottom: 0.4em;background-color: white;}#sk-container-id-13 div.sk-label label {font-family: monospace;font-weight: bold;display: inline-block;line-height: 1.2em;}#sk-container-id-13 div.sk-label-container {text-align: center;}#sk-container-id-13 div.sk-container {/* jupyter's `normalize.less` sets `[hidden] { display: none; }` but bootstrap.min.css set `[hidden] { display: none !important; }` so we also need the `!important` here to be able to override the default hidden behavior on the sphinx rendered scikit-learn.org. See: https://github.com/scikit-learn/scikit-learn/issues/21755 */display: inline-block !important;position: relative;}#sk-container-id-13 div.sk-text-repr-fallback {display: none;}</style><div id=\"sk-container-id-13\" class=\"sk-top-container\"><div class=\"sk-text-repr-fallback\"><pre>LGBMClassifier(importance_type=&#x27;gain&#x27;, metric=&#x27;auc&#x27;, n_estimators=100000,\n",
       "               num_leaves=16, objective=&#x27;binary&#x27;, random_state=123)</pre><b>In a Jupyter environment, please rerun this cell to show the HTML representation or trust the notebook. <br />On GitHub, the HTML representation is unable to render, please try loading this page with nbviewer.org.</b></div><div class=\"sk-container\" hidden><div class=\"sk-item\"><div class=\"sk-estimator sk-toggleable\"><input class=\"sk-toggleable__control sk-hidden--visually\" id=\"sk-estimator-id-13\" type=\"checkbox\" checked><label for=\"sk-estimator-id-13\" class=\"sk-toggleable__label sk-toggleable__label-arrow\">LGBMClassifier</label><div class=\"sk-toggleable__content\"><pre>LGBMClassifier(importance_type=&#x27;gain&#x27;, metric=&#x27;auc&#x27;, n_estimators=100000,\n",
       "               num_leaves=16, objective=&#x27;binary&#x27;, random_state=123)</pre></div></div></div></div></div>"
      ],
      "text/plain": [
       "LGBMClassifier(importance_type='gain', metric='auc', n_estimators=100000,\n",
       "               num_leaves=16, objective='binary', random_state=123)"
      ]
     },
     "execution_count": 154,
     "metadata": {},
     "output_type": "execute_result"
    }
   ],
   "source": [
    "# 4-12 モデル学習（ホールドアウト検証の場合）\n",
    "# ハイパーパラメータ\n",
    "params = {\n",
    "    \"boosting_type\":\"gbdt\",\n",
    "    \"objective\":\"binary\",\n",
    "    \"metric\":\"auc\",\n",
    "    \"learning_rate\":0.1,\n",
    "    \"num_leaves\":16,\n",
    "    \"n_estimators\":100000,\n",
    "    \"random_state\":123,\n",
    "    \"importance_type\":\"gain\"\n",
    "}\n",
    "model = lgb.LGBMClassifier(**params)\n",
    "model.fit(x_tr,\n",
    "          y_tr,\n",
    "          eval_set=[(x_tr,y_tr), (x_va,y_va)],\n",
    "          callbacks=[\n",
    "            lgb.early_stopping(stopping_rounds=100, verbose=True),\n",
    "            ]\n",
    "          )"
   ]
  },
  {
   "cell_type": "code",
   "execution_count": 155,
   "metadata": {},
   "outputs": [
    {
     "name": "stdout",
     "output_type": "stream",
     "text": [
      "[accuracy] tr: 0.75, va: 0.73\n"
     ]
    }
   ],
   "source": [
    "# 4-13 精度の評価\n",
    "y_tr_pred = model.predict(x_tr)\n",
    "y_va_pred = model.predict(x_va)\n",
    "metric_tr = accuracy_score(y_tr, y_tr_pred)\n",
    "metric_va = accuracy_score(y_va, y_va_pred)\n",
    "print(\"[accuracy] tr: {:.2f}, va: {:.2f}\".format(metric_tr, metric_va))"
   ]
  },
  {
   "cell_type": "code",
   "execution_count": 156,
   "metadata": {},
   "outputs": [
    {
     "data": {
      "text/html": [
       "<div>\n",
       "<style scoped>\n",
       "    .dataframe tbody tr th:only-of-type {\n",
       "        vertical-align: middle;\n",
       "    }\n",
       "\n",
       "    .dataframe tbody tr th {\n",
       "        vertical-align: top;\n",
       "    }\n",
       "\n",
       "    .dataframe thead th {\n",
       "        text-align: right;\n",
       "    }\n",
       "</style>\n",
       "<table border=\"1\" class=\"dataframe\">\n",
       "  <thead>\n",
       "    <tr style=\"text-align: right;\">\n",
       "      <th></th>\n",
       "      <th>col</th>\n",
       "      <th>imp</th>\n",
       "    </tr>\n",
       "  </thead>\n",
       "  <tbody>\n",
       "    <tr>\n",
       "      <th>0</th>\n",
       "      <td>Fare</td>\n",
       "      <td>903.440373</td>\n",
       "    </tr>\n",
       "    <tr>\n",
       "      <th>1</th>\n",
       "      <td>Pclass</td>\n",
       "      <td>229.457186</td>\n",
       "    </tr>\n",
       "  </tbody>\n",
       "</table>\n",
       "</div>"
      ],
      "text/plain": [
       "      col         imp\n",
       "0    Fare  903.440373\n",
       "1  Pclass  229.457186"
      ]
     },
     "execution_count": 156,
     "metadata": {},
     "output_type": "execute_result"
    }
   ],
   "source": [
    "# 4-14 説明変数の重要度の算出\n",
    "imp = pd.DataFrame({\"col\":x_train.columns, \"imp\":model.feature_importances_})\n",
    "imp.sort_values(\"imp\", ascending=False, ignore_index=True)"
   ]
  },
  {
   "cell_type": "markdown",
   "metadata": {},
   "source": [
    "### 4.7.2 クロスバリデーションの場合"
   ]
  },
  {
   "cell_type": "code",
   "execution_count": 157,
   "metadata": {},
   "outputs": [
    {
     "name": "stdout",
     "output_type": "stream",
     "text": [
      "-------------------- 0 --------------------\n",
      "(712, 2) (712, 1)\n",
      "(179, 2) (179, 1)\n",
      "y_train:0.384, y_tr:0.383, y_va:0.385\n",
      "[LightGBM] [Info] Number of positive: 273, number of negative: 439\n",
      "[LightGBM] [Warning] Auto-choosing col-wise multi-threading, the overhead of testing was 0.000210 seconds.\n",
      "You can set `force_col_wise=true` to remove the overhead.\n",
      "[LightGBM] [Info] Total Bins 123\n",
      "[LightGBM] [Info] Number of data points in the train set: 712, number of used features: 2\n",
      "[LightGBM] [Info] [binary:BoostFromScore]: pavg=0.383427 -> initscore=-0.475028\n",
      "[LightGBM] [Info] Start training from score -0.475028\n",
      "Training until validation scores don't improve for 100 rounds\n",
      "Early stopping, best iteration is:\n",
      "[12]\ttraining's auc: 0.793779\tvalid_1's auc: 0.740382\n",
      "[accuracy] tr: 0.72, va: 0.68\n",
      "-------------------- 1 --------------------\n",
      "(713, 2) (713, 1)\n",
      "(178, 2) (178, 1)\n",
      "y_train:0.384, y_tr:0.384, y_va:0.382\n",
      "[LightGBM] [Info] Number of positive: 274, number of negative: 439\n",
      "[LightGBM] [Warning] Auto-choosing col-wise multi-threading, the overhead of testing was 0.000279 seconds.\n",
      "You can set `force_col_wise=true` to remove the overhead.\n",
      "[LightGBM] [Info] Total Bins 123\n",
      "[LightGBM] [Info] Number of data points in the train set: 713, number of used features: 2\n",
      "[LightGBM] [Info] [binary:BoostFromScore]: pavg=0.384292 -> initscore=-0.471371\n",
      "[LightGBM] [Info] Start training from score -0.471371\n",
      "Training until validation scores don't improve for 100 rounds\n",
      "Early stopping, best iteration is:\n",
      "[26]\ttraining's auc: 0.807006\tvalid_1's auc: 0.757219\n",
      "[accuracy] tr: 0.75, va: 0.68\n",
      "-------------------- 2 --------------------\n",
      "(713, 2) (713, 1)\n",
      "(178, 2) (178, 1)\n",
      "y_train:0.384, y_tr:0.384, y_va:0.382\n",
      "[LightGBM] [Info] Number of positive: 274, number of negative: 439\n",
      "[LightGBM] [Warning] Auto-choosing col-wise multi-threading, the overhead of testing was 0.000151 seconds.\n",
      "You can set `force_col_wise=true` to remove the overhead.\n",
      "[LightGBM] [Info] Total Bins 128\n",
      "[LightGBM] [Info] Number of data points in the train set: 713, number of used features: 2\n",
      "[LightGBM] [Info] [binary:BoostFromScore]: pavg=0.384292 -> initscore=-0.471371\n",
      "[LightGBM] [Info] Start training from score -0.471371\n",
      "Training until validation scores don't improve for 100 rounds\n",
      "Early stopping, best iteration is:\n",
      "[191]\ttraining's auc: 0.849143\tvalid_1's auc: 0.739906\n",
      "[accuracy] tr: 0.77, va: 0.69\n",
      "-------------------- 3 --------------------\n",
      "(713, 2) (713, 1)\n",
      "(178, 2) (178, 1)\n",
      "y_train:0.384, y_tr:0.384, y_va:0.382\n",
      "[LightGBM] [Info] Number of positive: 274, number of negative: 439\n",
      "[LightGBM] [Warning] Auto-choosing col-wise multi-threading, the overhead of testing was 0.000313 seconds.\n",
      "You can set `force_col_wise=true` to remove the overhead.\n",
      "[LightGBM] [Info] Total Bins 124\n",
      "[LightGBM] [Info] Number of data points in the train set: 713, number of used features: 2\n",
      "[LightGBM] [Info] [binary:BoostFromScore]: pavg=0.384292 -> initscore=-0.471371\n",
      "[LightGBM] [Info] Start training from score -0.471371\n",
      "Training until validation scores don't improve for 100 rounds\n",
      "Early stopping, best iteration is:\n",
      "[28]\ttraining's auc: 0.808756\tvalid_1's auc: 0.757821\n",
      "[accuracy] tr: 0.75, va: 0.69\n",
      "-------------------- 4 --------------------\n",
      "(713, 2) (713, 1)\n",
      "(178, 2) (178, 1)\n",
      "y_train:0.384, y_tr:0.383, y_va:0.388\n",
      "[LightGBM] [Info] Number of positive: 273, number of negative: 440\n",
      "[LightGBM] [Warning] Auto-choosing col-wise multi-threading, the overhead of testing was 0.000140 seconds.\n",
      "You can set `force_col_wise=true` to remove the overhead.\n",
      "[LightGBM] [Info] Total Bins 118\n",
      "[LightGBM] [Info] Number of data points in the train set: 713, number of used features: 2\n",
      "[LightGBM] [Info] [binary:BoostFromScore]: pavg=0.382889 -> initscore=-0.477303\n",
      "[LightGBM] [Info] Start training from score -0.477303\n",
      "Training until validation scores don't improve for 100 rounds\n",
      "Early stopping, best iteration is:\n",
      "[3]\ttraining's auc: 0.759844\tvalid_1's auc: 0.759673\n",
      "[accuracy] tr: 0.62, va: 0.61\n",
      "-------------------- result --------------------\n",
      "[[0.         0.72050562 0.67597765]\n",
      " [1.         0.75175316 0.67977528]\n",
      " [2.         0.7713885  0.68539326]\n",
      " [3.         0.74614306 0.69101124]\n",
      " [4.         0.6171108  0.61235955]]\n",
      "[cv] tr: 0.72+-0.05, va: 0.67+-0.03\n",
      "Dane.\n"
     ]
    }
   ],
   "source": [
    "# 4-15 モデルの学習の実行（クロスバリデーションの場合）\n",
    "\n",
    "# ハイパーパラメータ\n",
    "params = {\n",
    "    \"boosting_type\":\"gbdt\",\n",
    "    \"objective\":\"binary\",\n",
    "    \"metric\":\"auc\",\n",
    "    \"learning_rate\":0.1,\n",
    "    \"num_leaves\":16,\n",
    "    \"n_estimators\":100000,\n",
    "    \"random_state\":123,\n",
    "    \"importance_type\":\"gain\"\n",
    "}\n",
    "metrics = []\n",
    "imp = pd.DataFrame()\n",
    "\n",
    "# 4-10 クロスバリエでーションの実行\n",
    "x_train, y_train, id_train = df_train[[\"Pclass\", \"Fare\"]],\\\n",
    "                             df_train[[\"Survived\"]],\\\n",
    "                             df_train[[\"PassengerId\"]]\n",
    "n_splits = 5\n",
    "cv = list(StratifiedKFold(n_splits=n_splits, shuffle=True, random_state=123).split(x_train,y_train))\n",
    "\n",
    "for nfold in np.arange(n_splits):\n",
    "    print(\"-\"*20, nfold, \"-\"*20)\n",
    "    idx_tr, idx_va = cv[nfold][0], cv[nfold][1]\n",
    "    x_tr, y_tr = x_train.loc[idx_tr,:], y_train.loc[idx_tr,:]\n",
    "    x_va, y_va = x_train.loc[idx_va,:], y_train.loc[idx_va,:]\n",
    "    print(x_tr.shape, y_tr.shape)\n",
    "    print(x_va.shape, y_va.shape)\n",
    "    print(\"y_train:{:.3f}, y_tr:{:.3f}, y_va:{:.3f}\".format(\n",
    "    y_train[\"Survived\"].mean(),\n",
    "    y_tr[\"Survived\"].mean(),\n",
    "    y_va[\"Survived\"].mean()\n",
    "    ))\n",
    "\n",
    "    model = lgb.LGBMClassifier(**params)\n",
    "    model.fit(x_tr,\n",
    "              y_tr,\n",
    "              eval_set=[(x_tr,y_tr), (x_va,y_va)],\n",
    "              callbacks=[lgb.early_stopping(stopping_rounds=100, verbose=True)]\n",
    "             )\n",
    "    \n",
    "    # 4-13 精度の評価\n",
    "    y_tr_pred = model.predict(x_tr)\n",
    "    y_va_pred = model.predict(x_va)\n",
    "    metric_tr = accuracy_score(y_tr, y_tr_pred)\n",
    "    metric_va = accuracy_score(y_va, y_va_pred)\n",
    "    print(\"[accuracy] tr: {:.2f}, va: {:.2f}\".format(metric_tr, metric_va))\n",
    "    metrics.append([nfold, metric_tr, metric_va])\n",
    "\n",
    "    # 4-14 説明変数の重要度の算出\n",
    "    _imp = pd.DataFrame({\"col\":x_train.columns, \"imp\":model.feature_importances_,\n",
    "                        \"nfold\":nfold})\n",
    "    imp = pd.concat([imp, _imp], axis=0, ignore_index=True)\n",
    "\n",
    "print(\"-\"*20, \"result\", \"-\"*20)\n",
    "metrics = np.array(metrics)\n",
    "print(metrics)\n",
    "\n",
    "\n",
    "print(\"[cv] tr: {:.2f}+-{:.2f}, va: {:.2f}+-{:.2f}\".format(\n",
    "    metrics[:,1].mean(), metrics[:,1].std(),\n",
    "    metrics[:,2].mean(), metrics[:,2].std()\n",
    "))\n",
    "\n",
    "\n",
    "imp = imp.groupby(\"col\")[\"imp\"].agg([\"mean\", \"std\"])\n",
    "imp.columns = [\"imp\", \"imp_std\"]\n",
    "imp = imp.reset_index(drop=False)\n",
    "\n",
    "print(\"Dane.\")\n"
   ]
  },
  {
   "cell_type": "code",
   "execution_count": 158,
   "metadata": {},
   "outputs": [
    {
     "data": {
      "text/html": [
       "<div>\n",
       "<style scoped>\n",
       "    .dataframe tbody tr th:only-of-type {\n",
       "        vertical-align: middle;\n",
       "    }\n",
       "\n",
       "    .dataframe tbody tr th {\n",
       "        vertical-align: top;\n",
       "    }\n",
       "\n",
       "    .dataframe thead th {\n",
       "        text-align: right;\n",
       "    }\n",
       "</style>\n",
       "<table border=\"1\" class=\"dataframe\">\n",
       "  <thead>\n",
       "    <tr style=\"text-align: right;\">\n",
       "      <th></th>\n",
       "      <th>col</th>\n",
       "      <th>imp</th>\n",
       "      <th>imp_std</th>\n",
       "    </tr>\n",
       "  </thead>\n",
       "  <tbody>\n",
       "    <tr>\n",
       "      <th>0</th>\n",
       "      <td>Fare</td>\n",
       "      <td>679.390270</td>\n",
       "      <td>356.992896</td>\n",
       "    </tr>\n",
       "    <tr>\n",
       "      <th>1</th>\n",
       "      <td>Pclass</td>\n",
       "      <td>291.704529</td>\n",
       "      <td>138.843896</td>\n",
       "    </tr>\n",
       "  </tbody>\n",
       "</table>\n",
       "</div>"
      ],
      "text/plain": [
       "      col         imp     imp_std\n",
       "0    Fare  679.390270  356.992896\n",
       "1  Pclass  291.704529  138.843896"
      ]
     },
     "execution_count": 158,
     "metadata": {},
     "output_type": "execute_result"
    }
   ],
   "source": [
    "# 4-16 説明変数の重要度の算出\n",
    "imp.sort_values(\"imp\", ascending=False, ignore_index=True)"
   ]
  },
  {
   "cell_type": "markdown",
   "metadata": {},
   "source": [
    "### 4.7.3 ベースラインの評価"
   ]
  },
  {
   "cell_type": "code",
   "execution_count": 159,
   "metadata": {},
   "outputs": [
    {
     "name": "stdout",
     "output_type": "stream",
     "text": [
      "(712, 2) (712, 1)\n",
      "(179, 2) (179, 1)\n"
     ]
    }
   ],
   "source": [
    "# 4-17ベースライン検証用データの作成\n",
    "x_tr, x_va2, y_tr, y_va2 = train_test_split(x_train,\n",
    "                                            y_train,\n",
    "                                            test_size=0.2,\n",
    "                                            shuffle=True,\n",
    "                                            stratify=y_train,\n",
    "                                            random_state=123)\n",
    "print(x_tr.shape, y_tr.shape)\n",
    "print(x_va2.shape, y_va2.shape)                                            "
   ]
  },
  {
   "cell_type": "code",
   "execution_count": 162,
   "metadata": {},
   "outputs": [
    {
     "name": "stdout",
     "output_type": "stream",
     "text": [
      "(569, 2) (569, 1)\n",
      "(143, 2) (143, 1)\n"
     ]
    }
   ],
   "source": [
    "# 4-18 学習データと検証データの分割(ホールドアウト検証)\n",
    "x_tr1, x_va1, y_tr1, y_va1 = train_test_split(x_tr,\n",
    "                                            y_tr,\n",
    "                                            test_size=0.2,\n",
    "                                            shuffle=True,\n",
    "                                            stratify=y_tr,\n",
    "                                            random_state=789)\n",
    "print(x_tr1.shape, y_tr1.shape)\n",
    "print(x_va1.shape, y_va1.shape)                                            "
   ]
  },
  {
   "cell_type": "code",
   "execution_count": 163,
   "metadata": {},
   "outputs": [
    {
     "name": "stdout",
     "output_type": "stream",
     "text": [
      "[LightGBM] [Info] Number of positive: 218, number of negative: 351\n",
      "[LightGBM] [Warning] Auto-choosing col-wise multi-threading, the overhead of testing was 0.000358 seconds.\n",
      "You can set `force_col_wise=true` to remove the overhead.\n",
      "[LightGBM] [Info] Total Bins 107\n",
      "[LightGBM] [Info] Number of data points in the train set: 569, number of used features: 2\n",
      "[LightGBM] [Info] [binary:BoostFromScore]: pavg=0.383128 -> initscore=-0.476291\n",
      "[LightGBM] [Info] Start training from score -0.476291\n",
      "Training until validation scores don't improve for 100 rounds\n",
      "Early stopping, best iteration is:\n",
      "[7]\ttraining's auc: 0.787396\tvalid_1's auc: 0.729545\n"
     ]
    },
    {
     "data": {
      "text/html": [
       "<style>#sk-container-id-14 {color: black;background-color: white;}#sk-container-id-14 pre{padding: 0;}#sk-container-id-14 div.sk-toggleable {background-color: white;}#sk-container-id-14 label.sk-toggleable__label {cursor: pointer;display: block;width: 100%;margin-bottom: 0;padding: 0.3em;box-sizing: border-box;text-align: center;}#sk-container-id-14 label.sk-toggleable__label-arrow:before {content: \"▸\";float: left;margin-right: 0.25em;color: #696969;}#sk-container-id-14 label.sk-toggleable__label-arrow:hover:before {color: black;}#sk-container-id-14 div.sk-estimator:hover label.sk-toggleable__label-arrow:before {color: black;}#sk-container-id-14 div.sk-toggleable__content {max-height: 0;max-width: 0;overflow: hidden;text-align: left;background-color: #f0f8ff;}#sk-container-id-14 div.sk-toggleable__content pre {margin: 0.2em;color: black;border-radius: 0.25em;background-color: #f0f8ff;}#sk-container-id-14 input.sk-toggleable__control:checked~div.sk-toggleable__content {max-height: 200px;max-width: 100%;overflow: auto;}#sk-container-id-14 input.sk-toggleable__control:checked~label.sk-toggleable__label-arrow:before {content: \"▾\";}#sk-container-id-14 div.sk-estimator input.sk-toggleable__control:checked~label.sk-toggleable__label {background-color: #d4ebff;}#sk-container-id-14 div.sk-label input.sk-toggleable__control:checked~label.sk-toggleable__label {background-color: #d4ebff;}#sk-container-id-14 input.sk-hidden--visually {border: 0;clip: rect(1px 1px 1px 1px);clip: rect(1px, 1px, 1px, 1px);height: 1px;margin: -1px;overflow: hidden;padding: 0;position: absolute;width: 1px;}#sk-container-id-14 div.sk-estimator {font-family: monospace;background-color: #f0f8ff;border: 1px dotted black;border-radius: 0.25em;box-sizing: border-box;margin-bottom: 0.5em;}#sk-container-id-14 div.sk-estimator:hover {background-color: #d4ebff;}#sk-container-id-14 div.sk-parallel-item::after {content: \"\";width: 100%;border-bottom: 1px solid gray;flex-grow: 1;}#sk-container-id-14 div.sk-label:hover label.sk-toggleable__label {background-color: #d4ebff;}#sk-container-id-14 div.sk-serial::before {content: \"\";position: absolute;border-left: 1px solid gray;box-sizing: border-box;top: 0;bottom: 0;left: 50%;z-index: 0;}#sk-container-id-14 div.sk-serial {display: flex;flex-direction: column;align-items: center;background-color: white;padding-right: 0.2em;padding-left: 0.2em;position: relative;}#sk-container-id-14 div.sk-item {position: relative;z-index: 1;}#sk-container-id-14 div.sk-parallel {display: flex;align-items: stretch;justify-content: center;background-color: white;position: relative;}#sk-container-id-14 div.sk-item::before, #sk-container-id-14 div.sk-parallel-item::before {content: \"\";position: absolute;border-left: 1px solid gray;box-sizing: border-box;top: 0;bottom: 0;left: 50%;z-index: -1;}#sk-container-id-14 div.sk-parallel-item {display: flex;flex-direction: column;z-index: 1;position: relative;background-color: white;}#sk-container-id-14 div.sk-parallel-item:first-child::after {align-self: flex-end;width: 50%;}#sk-container-id-14 div.sk-parallel-item:last-child::after {align-self: flex-start;width: 50%;}#sk-container-id-14 div.sk-parallel-item:only-child::after {width: 0;}#sk-container-id-14 div.sk-dashed-wrapped {border: 1px dashed gray;margin: 0 0.4em 0.5em 0.4em;box-sizing: border-box;padding-bottom: 0.4em;background-color: white;}#sk-container-id-14 div.sk-label label {font-family: monospace;font-weight: bold;display: inline-block;line-height: 1.2em;}#sk-container-id-14 div.sk-label-container {text-align: center;}#sk-container-id-14 div.sk-container {/* jupyter's `normalize.less` sets `[hidden] { display: none; }` but bootstrap.min.css set `[hidden] { display: none !important; }` so we also need the `!important` here to be able to override the default hidden behavior on the sphinx rendered scikit-learn.org. See: https://github.com/scikit-learn/scikit-learn/issues/21755 */display: inline-block !important;position: relative;}#sk-container-id-14 div.sk-text-repr-fallback {display: none;}</style><div id=\"sk-container-id-14\" class=\"sk-top-container\"><div class=\"sk-text-repr-fallback\"><pre>LGBMClassifier(importance_type=&#x27;gain&#x27;, metric=&#x27;auc&#x27;, n_estimators=100000,\n",
       "               num_leaves=16, objective=&#x27;binary&#x27;, random_state=123)</pre><b>In a Jupyter environment, please rerun this cell to show the HTML representation or trust the notebook. <br />On GitHub, the HTML representation is unable to render, please try loading this page with nbviewer.org.</b></div><div class=\"sk-container\" hidden><div class=\"sk-item\"><div class=\"sk-estimator sk-toggleable\"><input class=\"sk-toggleable__control sk-hidden--visually\" id=\"sk-estimator-id-14\" type=\"checkbox\" checked><label for=\"sk-estimator-id-14\" class=\"sk-toggleable__label sk-toggleable__label-arrow\">LGBMClassifier</label><div class=\"sk-toggleable__content\"><pre>LGBMClassifier(importance_type=&#x27;gain&#x27;, metric=&#x27;auc&#x27;, n_estimators=100000,\n",
       "               num_leaves=16, objective=&#x27;binary&#x27;, random_state=123)</pre></div></div></div></div></div>"
      ],
      "text/plain": [
       "LGBMClassifier(importance_type='gain', metric='auc', n_estimators=100000,\n",
       "               num_leaves=16, objective='binary', random_state=123)"
      ]
     },
     "execution_count": 163,
     "metadata": {},
     "output_type": "execute_result"
    }
   ],
   "source": [
    "# 4-19 モデル学習（ホールドアウト検証）\n",
    "\n",
    "# ハイパーパラメータ\n",
    "params = {\n",
    "    \"boosting_type\":\"gbdt\",\n",
    "    \"objective\":\"binary\",\n",
    "    \"metric\":\"auc\",\n",
    "    \"learning_rate\":0.1,\n",
    "    \"num_leaves\":16,\n",
    "    \"n_estimators\":100000,\n",
    "    \"random_state\":123,\n",
    "    \"importance_type\":\"gain\"\n",
    "}\n",
    "\n",
    "model = lgb.LGBMClassifier(**params)\n",
    "model.fit(x_tr1,\n",
    "          y_tr1,\n",
    "          eval_set=[(x_tr1,y_tr1), (x_va1,y_va1)],\n",
    "          callbacks=[\n",
    "            lgb.early_stopping(stopping_rounds=100, verbose=True),\n",
    "            ]\n",
    "          )"
   ]
  },
  {
   "cell_type": "code",
   "execution_count": 167,
   "metadata": {},
   "outputs": [],
   "source": [
    "# 4-20 検証データとベースライン検証用データの予測値算出\n",
    "y_va1_pred = model.predict(x_va1)\n",
    "y_va2_pred = model.predict(x_va2)"
   ]
  },
  {
   "cell_type": "code",
   "execution_count": 168,
   "metadata": {},
   "outputs": [
    {
     "name": "stdout",
     "output_type": "stream",
     "text": [
      "[検証データ] acc: 0.7133\n",
      "[ベースライン検証用データ] acc: 0.7095\n"
     ]
    }
   ],
   "source": [
    "# 4-21 モデル精度の比較\n",
    "print(\"[検証データ] acc: {:.4f}\".format(accuracy_score(y_va1, y_va1_pred)))\n",
    "print(\"[ベースライン検証用データ] acc: {:.4f}\".format(accuracy_score(y_va2, y_va2_pred)))"
   ]
  },
  {
   "cell_type": "code",
   "execution_count": 171,
   "metadata": {},
   "outputs": [
    {
     "name": "stdout",
     "output_type": "stream",
     "text": [
      "検証データ\n",
      "[[76 12]\n",
      " [29 26]]\n",
      "[[0.53146853 0.08391608]\n",
      " [0.2027972  0.18181818]]\n",
      "ベースライン検証用データ\n",
      "[[92 18]\n",
      " [34 35]]\n",
      "[[0.51396648 0.10055866]\n",
      " [0.18994413 0.19553073]]\n"
     ]
    }
   ],
   "source": [
    "# 4-22 誤差分布の比較\n",
    "print(\"検証データ\")\n",
    "print(confusion_matrix(y_va1, y_va1_pred))\n",
    "print(confusion_matrix(y_va1, y_va1_pred, normalize=\"all\"))\n",
    "\n",
    "print(\"ベースライン検証用データ\")\n",
    "print(confusion_matrix(y_va2, y_va2_pred))\n",
    "print(confusion_matrix(y_va2, y_va2_pred, normalize=\"all\"))"
   ]
  },
  {
   "cell_type": "code",
   "execution_count": 176,
   "metadata": {},
   "outputs": [
    {
     "data": {
      "text/plain": [
       "<matplotlib.legend.Legend at 0x16c89fcd0>"
      ]
     },
     "execution_count": 176,
     "metadata": {},
     "output_type": "execute_result"
    },
    {
     "data": {
      "image/png": "[encoded data removed]",
      "text/plain": [
       "<Figure size 720x576 with 2 Axes>"
      ]
     },
     "metadata": {
      "needs_background": "light"
     },
     "output_type": "display_data"
    }
   ],
   "source": [
    "# 4-23 予測値の分布比較\n",
    "# 予測値の確率値算出\n",
    "y_va1_pred_prob = model.predict_proba(x_va1)[:,1]\n",
    "y_va2_pred_prob = model.predict_proba(x_va2)[:,1]\n",
    "\n",
    "# 確率値をヒストグラムで可視化\n",
    "fig = plt.figure(figsize=(10,8))\n",
    "\n",
    "# 検証データ\n",
    "fig.add_subplot(2,1,1)\n",
    "plt.title(\"検証データ\")\n",
    "plt.hist(y_va1_pred_prob[np.array(y_va1).reshape(-1)==1], bins=10, alpha=0.5, label=\"1\")\n",
    "plt.hist(y_va1_pred_prob[np.array(y_va1).reshape(-1)==0], bins=10, alpha=0.5, label=\"0\")\n",
    "\n",
    "# ベースライン検証用データ\n",
    "fig.add_subplot(2,1,2)\n",
    "plt.title(\"ベースライン検証用データ\")\n",
    "plt.hist(y_va2_pred_prob[np.array(y_va2).reshape(-1)==1], bins=10, alpha=0.5, label=\"1\")\n",
    "plt.hist(y_va2_pred_prob[np.array(y_va2).reshape(-1)==0], bins=10, alpha=0.5, label=\"0\")\n",
    "\n",
    "plt.grid()\n",
    "plt.legend()"
   ]
  },
  {
   "cell_type": "markdown",
   "metadata": {},
   "source": [
    "## 4.8 モデル推論"
   ]
  },
  {
   "cell_type": "markdown",
   "metadata": {},
   "source": [
    "### 4.8.1 推論用データセット作成"
   ]
  },
  {
   "cell_type": "code",
   "execution_count": 182,
   "metadata": {},
   "outputs": [],
   "source": [
    "# 4-24 推論用データセットの作成\n",
    "df_test = pd.read_csv(\"../titanic/test.csv\")\n",
    "x_test = df_test[[\"Pclass\", \"Fare\"]]\n",
    "id_test = df_test[[\"PassengerId\"]]"
   ]
  },
  {
   "cell_type": "markdown",
   "metadata": {},
   "source": [
    "### 4.8.2 学習済みモデルを用いた推論"
   ]
  },
  {
   "cell_type": "code",
   "execution_count": 183,
   "metadata": {},
   "outputs": [],
   "source": [
    "# 4-25 学習モデルによる推論\n",
    "y_test_pred = model.predict(x_test)"
   ]
  },
  {
   "cell_type": "code",
   "execution_count": 184,
   "metadata": {},
   "outputs": [
    {
     "data": {
      "text/html": [
       "<div>\n",
       "<style scoped>\n",
       "    .dataframe tbody tr th:only-of-type {\n",
       "        vertical-align: middle;\n",
       "    }\n",
       "\n",
       "    .dataframe tbody tr th {\n",
       "        vertical-align: top;\n",
       "    }\n",
       "\n",
       "    .dataframe thead th {\n",
       "        text-align: right;\n",
       "    }\n",
       "</style>\n",
       "<table border=\"1\" class=\"dataframe\">\n",
       "  <thead>\n",
       "    <tr style=\"text-align: right;\">\n",
       "      <th></th>\n",
       "      <th>PassengerId</th>\n",
       "      <th>Survived</th>\n",
       "    </tr>\n",
       "  </thead>\n",
       "  <tbody>\n",
       "    <tr>\n",
       "      <th>0</th>\n",
       "      <td>892</td>\n",
       "      <td>0</td>\n",
       "    </tr>\n",
       "    <tr>\n",
       "      <th>1</th>\n",
       "      <td>893</td>\n",
       "      <td>0</td>\n",
       "    </tr>\n",
       "    <tr>\n",
       "      <th>2</th>\n",
       "      <td>894</td>\n",
       "      <td>0</td>\n",
       "    </tr>\n",
       "    <tr>\n",
       "      <th>3</th>\n",
       "      <td>895</td>\n",
       "      <td>0</td>\n",
       "    </tr>\n",
       "    <tr>\n",
       "      <th>4</th>\n",
       "      <td>896</td>\n",
       "      <td>0</td>\n",
       "    </tr>\n",
       "  </tbody>\n",
       "</table>\n",
       "</div>"
      ],
      "text/plain": [
       "   PassengerId  Survived\n",
       "0          892         0\n",
       "1          893         0\n",
       "2          894         0\n",
       "3          895         0\n",
       "4          896         0"
      ]
     },
     "metadata": {},
     "output_type": "display_data"
    }
   ],
   "source": [
    "# 4-26 提出用ファイルの作成\n",
    "df_submit = pd.DataFrame({\"PassengerId\":id_test[\"PassengerId\"],\"Survived\":y_test_pred})\n",
    "display(df_submit.head(5))\n",
    "df_submit.to_csv(\"submission_baseline.csv\", index=None)"
   ]
  }
 ],
 "metadata": {
  "interpreter": {
   "hash": "a665b5d41d17b532ea9890333293a1b812fa0b73c9c25c950b3cedf1bebd0438"
  },
  "kernelspec": {
   "display_name": "Python 3.9.16 64-bit",
   "name": "python3"
  },
  "language_info": {
   "codemirror_mode": {
    "name": "ipython",
    "version": 3
   },
   "file_extension": ".py",
   "mimetype": "text/x-python",
   "name": "python",
   "nbconvert_exporter": "python",
   "pygments_lexer": "ipython3",
   "version": "3.9.16"
  },
  "orig_nbformat": 4
 },
 "nbformat": 4,
 "nbformat_minor": 2
}
